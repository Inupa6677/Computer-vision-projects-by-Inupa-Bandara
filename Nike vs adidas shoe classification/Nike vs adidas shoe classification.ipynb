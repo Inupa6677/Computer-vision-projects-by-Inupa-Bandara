{
 "cells": [
  {
   "cell_type": "code",
   "execution_count": 1,
   "id": "d86c67de",
   "metadata": {},
   "outputs": [],
   "source": [
    "import numpy as np\n",
    "import pandas as pd"
   ]
  },
  {
   "cell_type": "code",
   "execution_count": 2,
   "id": "05611818",
   "metadata": {},
   "outputs": [
    {
     "name": "stdout",
     "output_type": "stream",
     "text": [
      "WARNING:tensorflow:From C:\\Users\\MSI KATANA\\anaconda3\\Lib\\site-packages\\keras\\src\\losses.py:2976: The name tf.losses.sparse_softmax_cross_entropy is deprecated. Please use tf.compat.v1.losses.sparse_softmax_cross_entropy instead.\n",
      "\n"
     ]
    }
   ],
   "source": [
    "import os\n",
    "import tensorflow as tf\n",
    "from tensorflow import keras\n",
    "from tensorflow.keras.optimizers import Adam\n",
    "from sklearn.model_selection import train_test_split\n",
    "from tensorflow.keras.metrics import categorical_crossentropy\n",
    "from tensorflow.keras.models import Model, load_model, Sequential\n",
    "from sklearn.metrics import confusion_matrix, classification_report\n",
    "from tensorflow.keras.preprocessing.image import ImageDataGenerator\n",
    "from tensorflow.keras.layers import Conv2D, MaxPooling2D, Flatten, Dense, Activation, Dropout, BatchNormalization"
   ]
  },
  {
   "cell_type": "code",
   "execution_count": 11,
   "id": "3674b8e7",
   "metadata": {},
   "outputs": [],
   "source": [
    "import tensorflow as tf\n",
    "from tensorflow.keras.preprocessing.image import ImageDataGenerator\n",
    "\n",
    "# Parameters\n",
    "fpath_train = 'C:/Users/MSI KATANA/Desktop/practice ML/Computer-vision-projects-by-Inupa-Bandara/Nike vs adidas shoe classification/train'\n",
    "fpath_valid = 'C:/Users/MSI KATANA/Desktop/practice ML/Computer-vision-projects-by-Inupa-Bandara/Nike vs adidas shoe classification/validation'\n",
    "fpath_test = 'C:/Users/MSI KATANA/Desktop/practice ML/Computer-vision-projects-by-Inupa-Bandara/Nike vs adidas shoe classification/test'\n",
    "batch_size = 100\n",
    "img_size = (224, 224)"
   ]
  },
  {
   "cell_type": "code",
   "execution_count": 12,
   "id": "be6e988b",
   "metadata": {},
   "outputs": [],
   "source": [
    "# ImageDataGenerator for training and validation (without validation_split)\n",
    "datagen = ImageDataGenerator(\n",
    "    rescale=1/255.,\n",
    "    zoom_range=0.2,\n",
    "    rotation_range=30,\n",
    "    horizontal_flip=True\n",
    ")"
   ]
  },
  {
   "cell_type": "code",
   "execution_count": 13,
   "id": "f084ecfb",
   "metadata": {},
   "outputs": [
    {
     "name": "stdout",
     "output_type": "stream",
     "text": [
      "Found 460 images belonging to 2 classes.\n"
     ]
    }
   ],
   "source": [
    "# Training data generator\n",
    "train_gen = datagen.flow_from_directory(\n",
    "    fpath_train,\n",
    "    target_size=img_size,\n",
    "    class_mode='categorical',\n",
    "    batch_size=batch_size\n",
    ")"
   ]
  },
  {
   "cell_type": "code",
   "execution_count": 14,
   "id": "656c9ab8",
   "metadata": {},
   "outputs": [
    {
     "name": "stdout",
     "output_type": "stream",
     "text": [
      "Found 60 images belonging to 2 classes.\n"
     ]
    }
   ],
   "source": [
    "# Test data generator\n",
    "test_gen = ImageDataGenerator(rescale=1/255.).flow_from_directory(\n",
    "    fpath_test,\n",
    "    target_size=img_size,\n",
    "    batch_size=batch_size,\n",
    "    class_mode='categorical',\n",
    "    shuffle=False  # Set shuffle to False for test data\n",
    ")"
   ]
  },
  {
   "cell_type": "code",
   "execution_count": 15,
   "id": "099fbf97",
   "metadata": {},
   "outputs": [
    {
     "name": "stdout",
     "output_type": "stream",
     "text": [
      "Found 55 images belonging to 2 classes.\n"
     ]
    }
   ],
   "source": [
    "# Validation data generator\n",
    "valid_gen = datagen.flow_from_directory(\n",
    "    fpath_valid,\n",
    "    target_size=img_size,\n",
    "    class_mode='categorical',\n",
    "    batch_size=batch_size\n",
    ")"
   ]
  },
  {
   "cell_type": "code",
   "execution_count": 16,
   "id": "f3a352da",
   "metadata": {},
   "outputs": [
    {
     "name": "stdout",
     "output_type": "stream",
     "text": [
      "Found 460 files belonging to 2 classes.\n",
      "Found 55 files belonging to 2 classes.\n",
      "Found 60 files belonging to 2 classes.\n"
     ]
    }
   ],
   "source": [
    "# Load the dataset using image_dataset_from_directory (alternative method)\n",
    "dataset_train = tf.keras.preprocessing.image_dataset_from_directory(\n",
    "    fpath_train,\n",
    "    image_size=img_size,\n",
    "    batch_size=batch_size,\n",
    "    shuffle=True  # Shuffle for training\n",
    ")\n",
    "\n",
    "dataset_valid = tf.keras.preprocessing.image_dataset_from_directory(\n",
    "    fpath_valid,\n",
    "    image_size=img_size,\n",
    "    batch_size=batch_size,\n",
    "    shuffle=False  # Keep order for validation\n",
    ")\n",
    "\n",
    "dataset_test = tf.keras.preprocessing.image_dataset_from_directory(\n",
    "    fpath_test,\n",
    "    image_size=img_size,\n",
    "    batch_size=batch_size,\n",
    "    shuffle=False  # Keep order for testing\n",
    ")"
   ]
  },
  {
   "cell_type": "code",
   "execution_count": 17,
   "id": "9516054b",
   "metadata": {},
   "outputs": [],
   "source": [
    "import tensorflow as tf\n",
    "from tensorflow.keras.models import Sequential\n",
    "from tensorflow.keras.layers import Dense, Dropout, BatchNormalization\n",
    "from tensorflow.keras.callbacks import ModelCheckpoint"
   ]
  },
  {
   "cell_type": "code",
   "execution_count": 18,
   "id": "b660cef2",
   "metadata": {},
   "outputs": [],
   "source": [
    "img_size = (224, 224)\n",
    "channels = 3\n",
    "img_shape = (img_size[0], img_size[1], channels)\n",
    "class_count = len(list(train_gen.class_indices.keys()))"
   ]
  },
  {
   "cell_type": "code",
   "execution_count": 19,
   "id": "42d5c2c3",
   "metadata": {},
   "outputs": [
    {
     "name": "stdout",
     "output_type": "stream",
     "text": [
      "WARNING:tensorflow:From C:\\Users\\MSI KATANA\\anaconda3\\Lib\\site-packages\\keras\\src\\backend.py:1398: The name tf.executing_eagerly_outside_functions is deprecated. Please use tf.compat.v1.executing_eagerly_outside_functions instead.\n",
      "\n",
      "WARNING:tensorflow:From C:\\Users\\MSI KATANA\\anaconda3\\Lib\\site-packages\\keras\\src\\layers\\normalization\\batch_normalization.py:979: The name tf.nn.fused_batch_norm is deprecated. Please use tf.compat.v1.nn.fused_batch_norm instead.\n",
      "\n",
      "Downloading data from https://storage.googleapis.com/keras-applications/efficientnetb3_notop.h5\n",
      "43941136/43941136 [==============================] - 13s 0us/step\n"
     ]
    }
   ],
   "source": [
    "base_model = tf.keras.applications.EfficientNetB3(include_top=False, weights=\"imagenet\", input_shape=img_shape, pooling='max')\n",
    "for layer in base_model.layers:\n",
    "    layer.trainable = False\n",
    "model = Sequential([\n",
    "    base_model,\n",
    "    BatchNormalization(),\n",
    "    Dense(256, activation='relu'),\n",
    "    Dropout(0.3),\n",
    "     Dense(64, activation='relu'),\n",
    "    Dropout(0.3),\n",
    "    Dense(class_count, activation='softmax')\n",
    "])"
   ]
  },
  {
   "cell_type": "code",
   "execution_count": 20,
   "id": "8b7228c3",
   "metadata": {},
   "outputs": [],
   "source": [
    "optimizer = tf.keras.optimizers.Adam()\n",
    "model.compile(optimizer=optimizer, loss='categorical_crossentropy', metrics=['accuracy'])"
   ]
  },
  {
   "cell_type": "code",
   "execution_count": 21,
   "id": "502479e0",
   "metadata": {},
   "outputs": [],
   "source": [
    "# Define filepath to save the best model\n",
    "filepath = 'best_model.h5'"
   ]
  },
  {
   "cell_type": "code",
   "execution_count": 22,
   "id": "c123e4e4",
   "metadata": {},
   "outputs": [
    {
     "name": "stdout",
     "output_type": "stream",
     "text": [
      "Epoch 1/20\n",
      "WARNING:tensorflow:From C:\\Users\\MSI KATANA\\anaconda3\\Lib\\site-packages\\keras\\src\\utils\\tf_utils.py:492: The name tf.ragged.RaggedTensorValue is deprecated. Please use tf.compat.v1.ragged.RaggedTensorValue instead.\n",
      "\n",
      "WARNING:tensorflow:From C:\\Users\\MSI KATANA\\anaconda3\\Lib\\site-packages\\keras\\src\\engine\\base_layer_utils.py:384: The name tf.executing_eagerly_outside_functions is deprecated. Please use tf.compat.v1.executing_eagerly_outside_functions instead.\n",
      "\n",
      "1/5 [=====>........................] - ETA: 52s - loss: 1.2928 - accuracy: 0.4600"
     ]
    },
    {
     "name": "stderr",
     "output_type": "stream",
     "text": [
      "C:\\Users\\MSI KATANA\\anaconda3\\Lib\\site-packages\\PIL\\Image.py:996: UserWarning: Palette images with Transparency expressed in bytes should be converted to RGBA images\n",
      "  warnings.warn(\n"
     ]
    },
    {
     "name": "stdout",
     "output_type": "stream",
     "text": [
      "5/5 [==============================] - ETA: 0s - loss: 1.5617 - accuracy: 0.5043\n",
      "Epoch 1: val_accuracy improved from -inf to 0.49091, saving model to best_model.h5\n"
     ]
    },
    {
     "name": "stderr",
     "output_type": "stream",
     "text": [
      "C:\\Users\\MSI KATANA\\anaconda3\\Lib\\site-packages\\keras\\src\\engine\\training.py:3103: UserWarning: You are saving your model as an HDF5 file via `model.save()`. This file format is considered legacy. We recommend using instead the native Keras format, e.g. `model.save('my_model.keras')`.\n",
      "  saving_api.save_model(\n"
     ]
    },
    {
     "name": "stdout",
     "output_type": "stream",
     "text": [
      "5/5 [==============================] - 28s 4s/step - loss: 1.5617 - accuracy: 0.5043 - val_loss: 1.3120 - val_accuracy: 0.4909\n",
      "Epoch 2/20\n",
      "5/5 [==============================] - ETA: 0s - loss: 1.3517 - accuracy: 0.5239\n",
      "Epoch 2: val_accuracy improved from 0.49091 to 0.50909, saving model to best_model.h5\n",
      "5/5 [==============================] - 13s 2s/step - loss: 1.3517 - accuracy: 0.5239 - val_loss: 0.9270 - val_accuracy: 0.5091\n",
      "Epoch 3/20\n",
      "5/5 [==============================] - ETA: 0s - loss: 1.2142 - accuracy: 0.4870\n",
      "Epoch 3: val_accuracy did not improve from 0.50909\n",
      "5/5 [==============================] - 12s 2s/step - loss: 1.2142 - accuracy: 0.4870 - val_loss: 1.4706 - val_accuracy: 0.5091\n",
      "Epoch 4/20\n",
      "5/5 [==============================] - ETA: 0s - loss: 1.1366 - accuracy: 0.5304\n",
      "Epoch 4: val_accuracy did not improve from 0.50909\n",
      "5/5 [==============================] - 13s 3s/step - loss: 1.1366 - accuracy: 0.5304 - val_loss: 2.3783 - val_accuracy: 0.5091\n",
      "Epoch 5/20\n",
      "5/5 [==============================] - ETA: 0s - loss: 1.1501 - accuracy: 0.4957\n",
      "Epoch 5: val_accuracy did not improve from 0.50909\n",
      "5/5 [==============================] - 12s 2s/step - loss: 1.1501 - accuracy: 0.4957 - val_loss: 1.0291 - val_accuracy: 0.4909\n",
      "Epoch 6/20\n",
      "5/5 [==============================] - ETA: 0s - loss: 0.9835 - accuracy: 0.5348\n",
      "Epoch 6: val_accuracy did not improve from 0.50909\n",
      "5/5 [==============================] - 12s 2s/step - loss: 0.9835 - accuracy: 0.5348 - val_loss: 0.6952 - val_accuracy: 0.4909\n",
      "Epoch 7/20\n",
      "5/5 [==============================] - ETA: 0s - loss: 0.9161 - accuracy: 0.5217\n",
      "Epoch 7: val_accuracy did not improve from 0.50909\n",
      "5/5 [==============================] - 12s 2s/step - loss: 0.9161 - accuracy: 0.5217 - val_loss: 0.7824 - val_accuracy: 0.5091\n",
      "Epoch 8/20\n",
      "5/5 [==============================] - ETA: 0s - loss: 0.8901 - accuracy: 0.5261\n",
      "Epoch 8: val_accuracy did not improve from 0.50909\n",
      "5/5 [==============================] - 12s 2s/step - loss: 0.8901 - accuracy: 0.5261 - val_loss: 0.6985 - val_accuracy: 0.4909\n",
      "Epoch 9/20\n",
      "5/5 [==============================] - ETA: 0s - loss: 0.8409 - accuracy: 0.5326\n",
      "Epoch 9: val_accuracy did not improve from 0.50909\n",
      "5/5 [==============================] - 12s 2s/step - loss: 0.8409 - accuracy: 0.5326 - val_loss: 0.7415 - val_accuracy: 0.4909\n",
      "Epoch 10/20\n",
      "5/5 [==============================] - ETA: 0s - loss: 0.8103 - accuracy: 0.5413\n",
      "Epoch 10: val_accuracy did not improve from 0.50909\n",
      "5/5 [==============================] - 12s 2s/step - loss: 0.8103 - accuracy: 0.5413 - val_loss: 0.6961 - val_accuracy: 0.4909\n",
      "Epoch 11/20\n",
      "5/5 [==============================] - ETA: 0s - loss: 0.7973 - accuracy: 0.5130\n",
      "Epoch 11: val_accuracy did not improve from 0.50909\n",
      "5/5 [==============================] - 12s 2s/step - loss: 0.7973 - accuracy: 0.5130 - val_loss: 0.6937 - val_accuracy: 0.5091\n",
      "Epoch 12/20\n",
      "5/5 [==============================] - ETA: 0s - loss: 0.8195 - accuracy: 0.4783\n",
      "Epoch 12: val_accuracy did not improve from 0.50909\n",
      "5/5 [==============================] - 12s 2s/step - loss: 0.8195 - accuracy: 0.4783 - val_loss: 0.6932 - val_accuracy: 0.5091\n",
      "Epoch 13/20\n",
      "5/5 [==============================] - ETA: 0s - loss: 0.7875 - accuracy: 0.5261\n",
      "Epoch 13: val_accuracy did not improve from 0.50909\n",
      "5/5 [==============================] - 12s 3s/step - loss: 0.7875 - accuracy: 0.5261 - val_loss: 0.7083 - val_accuracy: 0.5091\n",
      "Epoch 14/20\n",
      "5/5 [==============================] - ETA: 0s - loss: 0.7571 - accuracy: 0.5174\n",
      "Epoch 14: val_accuracy did not improve from 0.50909\n",
      "5/5 [==============================] - 12s 2s/step - loss: 0.7571 - accuracy: 0.5174 - val_loss: 0.7183 - val_accuracy: 0.5091\n",
      "Epoch 15/20\n",
      "5/5 [==============================] - ETA: 0s - loss: 0.7528 - accuracy: 0.4891\n",
      "Epoch 15: val_accuracy did not improve from 0.50909\n",
      "5/5 [==============================] - 12s 3s/step - loss: 0.7528 - accuracy: 0.4891 - val_loss: 0.7189 - val_accuracy: 0.5091\n",
      "Epoch 16/20\n",
      "5/5 [==============================] - ETA: 0s - loss: 0.7503 - accuracy: 0.4913\n",
      "Epoch 16: val_accuracy did not improve from 0.50909\n",
      "5/5 [==============================] - 12s 2s/step - loss: 0.7503 - accuracy: 0.4913 - val_loss: 0.7045 - val_accuracy: 0.5091\n",
      "Epoch 17/20\n",
      "5/5 [==============================] - ETA: 0s - loss: 0.7200 - accuracy: 0.5109\n",
      "Epoch 17: val_accuracy did not improve from 0.50909\n",
      "5/5 [==============================] - 12s 2s/step - loss: 0.7200 - accuracy: 0.5109 - val_loss: 0.6935 - val_accuracy: 0.5091\n",
      "Epoch 18/20\n",
      "5/5 [==============================] - ETA: 0s - loss: 0.7380 - accuracy: 0.5152\n",
      "Epoch 18: val_accuracy did not improve from 0.50909\n",
      "5/5 [==============================] - 12s 2s/step - loss: 0.7380 - accuracy: 0.5152 - val_loss: 0.6939 - val_accuracy: 0.4909\n",
      "Epoch 19/20\n",
      "5/5 [==============================] - ETA: 0s - loss: 0.7067 - accuracy: 0.5283\n",
      "Epoch 19: val_accuracy did not improve from 0.50909\n",
      "5/5 [==============================] - 12s 2s/step - loss: 0.7067 - accuracy: 0.5283 - val_loss: 0.6949 - val_accuracy: 0.4909\n",
      "Epoch 20/20\n",
      "5/5 [==============================] - ETA: 0s - loss: 0.7594 - accuracy: 0.4891\n",
      "Epoch 20: val_accuracy did not improve from 0.50909\n",
      "5/5 [==============================] - 12s 2s/step - loss: 0.7594 - accuracy: 0.4891 - val_loss: 0.6952 - val_accuracy: 0.4909\n"
     ]
    }
   ],
   "source": [
    "# Create ModelCheckpoint callback to save the best model based on validation accuracy\n",
    "checkpoint = ModelCheckpoint(filepath, monitor='val_accuracy', verbose=1, save_best_only=True, mode='max')\n",
    "# Train the model with the added callback\n",
    "\n",
    "history = model.fit(\n",
    "    x=train_gen,\n",
    "    epochs=20,\n",
    "    verbose=1,\n",
    "    validation_data=valid_gen,\n",
    "    callbacks=[checkpoint]\n",
    ")"
   ]
  },
  {
   "cell_type": "code",
   "execution_count": 23,
   "id": "aa33c059",
   "metadata": {},
   "outputs": [],
   "source": [
    "import tensorflow as tf\n",
    "from tensorflow.keras.models import load_model, Model\n",
    "from tensorflow.keras.layers import Input, Average\n"
   ]
  },
  {
   "cell_type": "code",
   "execution_count": 24,
   "id": "96fa7a69",
   "metadata": {},
   "outputs": [
    {
     "name": "stdout",
     "output_type": "stream",
     "text": [
      "5/5 [==============================] - 12s 2s/step - loss: 0.9291 - accuracy: 0.5000\n",
      "1/1 [==============================] - 1s 1s/step - loss: 0.9397 - accuracy: 0.5091\n",
      "1/1 [==============================] - 1s 1s/step - loss: 0.8715 - accuracy: 0.5000\n",
      "Train Loss:  0.9290727972984314\n",
      "Train Accuracy:  0.5\n",
      "--------------------\n",
      "Validation Loss:  0.9397459626197815\n",
      "Validation Accuracy:  0.5090909004211426\n",
      "--------------------\n",
      "Test Loss:  0.8715426921844482\n",
      "Test Accuracy:  0.5\n"
     ]
    }
   ],
   "source": [
    "model= load_model('best_model.h5')\n",
    "\n",
    "train_score = model.evaluate(train_gen, steps= len(train_gen), verbose= 1)\n",
    "valid_score = model.evaluate(valid_gen, steps= len(valid_gen), verbose= 1)\n",
    "test_score = model.evaluate(test_gen, steps= len(test_gen), verbose= 1)\n",
    "\n",
    "print(\"Train Loss: \", train_score[0])\n",
    "print(\"Train Accuracy: \", train_score[1])\n",
    "print('-' * 20)\n",
    "print(\"Validation Loss: \", valid_score[0])\n",
    "print(\"Validation Accuracy: \", valid_score[1])\n",
    "print('-' * 20)\n",
    "print(\"Test Loss: \", test_score[0])\n",
    "print(\"Test Accuracy: \", test_score[1])"
   ]
  },
  {
   "cell_type": "code",
   "execution_count": 25,
   "id": "029e2c9c",
   "metadata": {},
   "outputs": [
    {
     "name": "stderr",
     "output_type": "stream",
     "text": [
      "C:\\Users\\MSI KATANA\\AppData\\Local\\Temp\\ipykernel_17028\\3116042097.py:2: UserWarning: `Model.predict_generator` is deprecated and will be removed in a future version. Please use `Model.predict`, which supports generators.\n",
      "  preds = model.predict_generator(test_gen)\n"
     ]
    },
    {
     "name": "stdout",
     "output_type": "stream",
     "text": [
      "[1 1 1 1 1 1 1 1 1 1 1 1 1 1 1 1 1 1 1 1 1 1 1 1 1 1 1 1 1 1 1 1 1 1 1 1 1\n",
      " 1 1 1 1 1 1 1 1 1 1 1 1 1 1 1 1 1 1 1 1 1 1 1]\n"
     ]
    }
   ],
   "source": [
    "model = load_model('best_model.h5')\n",
    "preds = model.predict_generator(test_gen)\n",
    "y_pred = np.argmax(preds, axis=1)\n",
    "print(y_pred)"
   ]
  },
  {
   "cell_type": "code",
   "execution_count": 28,
   "id": "d9174b9d",
   "metadata": {},
   "outputs": [],
   "source": [
    "import itertools\n",
    "import matplotlib.pyplot as plt\n",
    "def plot_confusion_matrix(cm, classes, normalize= False, title= 'Confusion Matrix', cmap= plt.cm.Blues):\n",
    "    plt.figure(figsize= (10, 10))\n",
    "    plt.imshow(cm, interpolation= 'nearest', cmap= cmap)\n",
    "    plt.title(title)\n",
    "    plt.colorbar()\n",
    "    tick_marks = np.arange(len(classes))\n",
    "    plt.xticks(tick_marks, classes, rotation= 45)\n",
    "    plt.yticks(tick_marks, classes)\n",
    "    if normalize:\n",
    "        cm = cm.astype('float') / cm.sum(axis= 1)[:, np.newaxis]\n",
    "        print('Normalized Confusion Matrix')\n",
    "    else:\n",
    "        print('Confusion Matrix, Without Normalization')\n",
    "    print(cm)\n",
    "    thresh = cm.max() / 2.\n",
    "    for i, j in itertools.product(range(cm.shape[0]), range(cm.shape[1])):\n",
    "        plt.text(j, i, cm[i, j], horizontalalignment= 'center', color= 'white' if cm[i, j] > thresh else 'black')\n",
    "    plt.tight_layout()\n",
    "    plt.ylabel('True Label')\n",
    "    plt.xlabel('Predicted Label')\n",
    "        "
   ]
  },
  {
   "cell_type": "code",
   "execution_count": 30,
   "id": "54d8daad",
   "metadata": {},
   "outputs": [
    {
     "name": "stdout",
     "output_type": "stream",
     "text": [
      "1/1 [==============================] - 1s 1s/step\n"
     ]
    },
    {
     "data": {
      "image/png": "[encoded data removed]",
      "text/plain": [
       "<Figure size 1000x700 with 2 Axes>"
      ]
     },
     "metadata": {},
     "output_type": "display_data"
    },
    {
     "name": "stdout",
     "output_type": "stream",
     "text": [
      "              precision    recall  f1-score   support\n",
      "\n",
      "      adidas       0.00      0.00      0.00        30\n",
      "        nike       0.50      1.00      0.67        30\n",
      "\n",
      "    accuracy                           0.50        60\n",
      "   macro avg       0.25      0.50      0.33        60\n",
      "weighted avg       0.25      0.50      0.33        60\n",
      "\n"
     ]
    },
    {
     "name": "stderr",
     "output_type": "stream",
     "text": [
      "C:\\Users\\MSI KATANA\\anaconda3\\Lib\\site-packages\\sklearn\\metrics\\_classification.py:1509: UndefinedMetricWarning: Precision is ill-defined and being set to 0.0 in labels with no predicted samples. Use `zero_division` parameter to control this behavior.\n",
      "  _warn_prf(average, modifier, f\"{metric.capitalize()} is\", len(result))\n",
      "C:\\Users\\MSI KATANA\\anaconda3\\Lib\\site-packages\\sklearn\\metrics\\_classification.py:1509: UndefinedMetricWarning: Precision is ill-defined and being set to 0.0 in labels with no predicted samples. Use `zero_division` parameter to control this behavior.\n",
      "  _warn_prf(average, modifier, f\"{metric.capitalize()} is\", len(result))\n",
      "C:\\Users\\MSI KATANA\\anaconda3\\Lib\\site-packages\\sklearn\\metrics\\_classification.py:1509: UndefinedMetricWarning: Precision is ill-defined and being set to 0.0 in labels with no predicted samples. Use `zero_division` parameter to control this behavior.\n",
      "  _warn_prf(average, modifier, f\"{metric.capitalize()} is\", len(result))\n"
     ]
    }
   ],
   "source": [
    "import numpy as np\n",
    "from sklearn.metrics import confusion_matrix, classification_report\n",
    "import matplotlib.pyplot as plt\n",
    "import seaborn as sns\n",
    "\n",
    "# Assuming y_pred is the predicted classes from your model\n",
    "y_pred = np.argmax(model.predict(test_gen), axis=-1)\n",
    "\n",
    "# Define target names (class names)\n",
    "target_names = list(test_gen.class_indices.keys())\n",
    "\n",
    "# Confusion matrix\n",
    "cm = confusion_matrix(test_gen.classes, y_pred)\n",
    "\n",
    "def plot_confusion_matrix(cm, classes, title='Confusion Matrix', cmap=plt.cm.Blues):\n",
    "    plt.figure(figsize=(10, 7))\n",
    "    sns.heatmap(cm, annot=True, fmt='d', cmap=cmap, xticklabels=classes, yticklabels=classes)\n",
    "    plt.title(title)\n",
    "    plt.ylabel('True label')\n",
    "    plt.xlabel('Predicted label')\n",
    "    plt.show()\n",
    "\n",
    "# Plot confusion matrix\n",
    "plot_confusion_matrix(cm, classes=target_names, title='Confusion Matrix')\n",
    "\n",
    "# Classification report\n",
    "print(classification_report(test_gen.classes, y_pred, target_names=target_names))\n"
   ]
  },
  {
   "cell_type": "code",
   "execution_count": 31,
   "id": "aa184de2",
   "metadata": {},
   "outputs": [
    {
     "name": "stdout",
     "output_type": "stream",
     "text": [
      "Epoch 1/20\n"
     ]
    },
    {
     "name": "stderr",
     "output_type": "stream",
     "text": [
      "C:\\Users\\MSI KATANA\\anaconda3\\Lib\\site-packages\\PIL\\Image.py:996: UserWarning: Palette images with Transparency expressed in bytes should be converted to RGBA images\n",
      "  warnings.warn(\n"
     ]
    },
    {
     "name": "stdout",
     "output_type": "stream",
     "text": [
      "5/5 [==============================] - ETA: 0s - loss: 0.8211 - accuracy: 0.5478\n",
      "Epoch 1: val_accuracy improved from -inf to 0.60000, saving model to best_model_resnet.h5\n"
     ]
    },
    {
     "name": "stderr",
     "output_type": "stream",
     "text": [
      "C:\\Users\\MSI KATANA\\anaconda3\\Lib\\site-packages\\keras\\src\\engine\\training.py:3103: UserWarning: You are saving your model as an HDF5 file via `model.save()`. This file format is considered legacy. We recommend using instead the native Keras format, e.g. `model.save('my_model.keras')`.\n",
      "  saving_api.save_model(\n"
     ]
    },
    {
     "name": "stdout",
     "output_type": "stream",
     "text": [
      "5/5 [==============================] - 22s 4s/step - loss: 0.8211 - accuracy: 0.5478 - val_loss: 0.7333 - val_accuracy: 0.6000\n",
      "Epoch 2/20\n",
      "5/5 [==============================] - ETA: 0s - loss: 0.7356 - accuracy: 0.6522\n",
      "Epoch 2: val_accuracy did not improve from 0.60000\n",
      "5/5 [==============================] - 14s 3s/step - loss: 0.7356 - accuracy: 0.6522 - val_loss: 0.9430 - val_accuracy: 0.5273\n",
      "Epoch 3/20\n",
      "5/5 [==============================] - ETA: 0s - loss: 0.6508 - accuracy: 0.6717\n",
      "Epoch 3: val_accuracy did not improve from 0.60000\n",
      "5/5 [==============================] - 14s 3s/step - loss: 0.6508 - accuracy: 0.6717 - val_loss: 1.1271 - val_accuracy: 0.4909\n",
      "Epoch 4/20\n",
      "5/5 [==============================] - ETA: 0s - loss: 0.6316 - accuracy: 0.6783\n",
      "Epoch 4: val_accuracy did not improve from 0.60000\n",
      "5/5 [==============================] - 14s 3s/step - loss: 0.6316 - accuracy: 0.6783 - val_loss: 1.3229 - val_accuracy: 0.4909\n",
      "Epoch 5/20\n",
      "5/5 [==============================] - ETA: 0s - loss: 0.5945 - accuracy: 0.6870\n",
      "Epoch 5: val_accuracy did not improve from 0.60000\n",
      "5/5 [==============================] - 14s 3s/step - loss: 0.5945 - accuracy: 0.6870 - val_loss: 1.0651 - val_accuracy: 0.4909\n",
      "Epoch 6/20\n",
      "5/5 [==============================] - ETA: 0s - loss: 0.5934 - accuracy: 0.6957\n",
      "Epoch 6: val_accuracy did not improve from 0.60000\n",
      "5/5 [==============================] - 14s 3s/step - loss: 0.5934 - accuracy: 0.6957 - val_loss: 0.8385 - val_accuracy: 0.5091\n",
      "Epoch 7/20\n",
      "5/5 [==============================] - ETA: 0s - loss: 0.5570 - accuracy: 0.7217\n",
      "Epoch 7: val_accuracy did not improve from 0.60000\n",
      "5/5 [==============================] - 14s 3s/step - loss: 0.5570 - accuracy: 0.7217 - val_loss: 0.7955 - val_accuracy: 0.5273\n",
      "Epoch 8/20\n",
      "5/5 [==============================] - ETA: 0s - loss: 0.5930 - accuracy: 0.6870\n",
      "Epoch 8: val_accuracy did not improve from 0.60000\n",
      "5/5 [==============================] - 15s 3s/step - loss: 0.5930 - accuracy: 0.6870 - val_loss: 0.7847 - val_accuracy: 0.4909\n",
      "Epoch 9/20\n",
      "5/5 [==============================] - ETA: 0s - loss: 0.5593 - accuracy: 0.7413\n",
      "Epoch 9: val_accuracy did not improve from 0.60000\n",
      "5/5 [==============================] - 14s 3s/step - loss: 0.5593 - accuracy: 0.7413 - val_loss: 0.7345 - val_accuracy: 0.5273\n",
      "Epoch 10/20\n",
      "5/5 [==============================] - ETA: 0s - loss: 0.5584 - accuracy: 0.7261\n",
      "Epoch 10: val_accuracy did not improve from 0.60000\n",
      "5/5 [==============================] - 14s 3s/step - loss: 0.5584 - accuracy: 0.7261 - val_loss: 0.7423 - val_accuracy: 0.5091\n",
      "Epoch 11/20\n",
      "5/5 [==============================] - ETA: 0s - loss: 0.4962 - accuracy: 0.7391\n",
      "Epoch 11: val_accuracy did not improve from 0.60000\n",
      "5/5 [==============================] - 14s 3s/step - loss: 0.4962 - accuracy: 0.7391 - val_loss: 0.7404 - val_accuracy: 0.5091\n",
      "Epoch 12/20\n",
      "5/5 [==============================] - ETA: 0s - loss: 0.4974 - accuracy: 0.7652\n",
      "Epoch 12: val_accuracy did not improve from 0.60000\n",
      "5/5 [==============================] - 15s 3s/step - loss: 0.4974 - accuracy: 0.7652 - val_loss: 0.7881 - val_accuracy: 0.4909\n",
      "Epoch 13/20\n",
      "5/5 [==============================] - ETA: 0s - loss: 0.5789 - accuracy: 0.7130\n",
      "Epoch 13: val_accuracy did not improve from 0.60000\n",
      "5/5 [==============================] - 15s 3s/step - loss: 0.5789 - accuracy: 0.7130 - val_loss: 0.8110 - val_accuracy: 0.4909\n",
      "Epoch 14/20\n",
      "5/5 [==============================] - ETA: 0s - loss: 0.4843 - accuracy: 0.7435\n",
      "Epoch 14: val_accuracy did not improve from 0.60000\n",
      "5/5 [==============================] - 15s 3s/step - loss: 0.4843 - accuracy: 0.7435 - val_loss: 0.7298 - val_accuracy: 0.5455\n",
      "Epoch 15/20\n",
      "5/5 [==============================] - ETA: 0s - loss: 0.5084 - accuracy: 0.7543\n",
      "Epoch 15: val_accuracy did not improve from 0.60000\n",
      "5/5 [==============================] - 15s 3s/step - loss: 0.5084 - accuracy: 0.7543 - val_loss: 0.7532 - val_accuracy: 0.5273\n",
      "Epoch 16/20\n",
      "5/5 [==============================] - ETA: 0s - loss: 0.4355 - accuracy: 0.8043\n",
      "Epoch 16: val_accuracy did not improve from 0.60000\n",
      "5/5 [==============================] - 14s 3s/step - loss: 0.4355 - accuracy: 0.8043 - val_loss: 0.8753 - val_accuracy: 0.5273\n",
      "Epoch 17/20\n",
      "5/5 [==============================] - ETA: 0s - loss: 0.4491 - accuracy: 0.7739\n",
      "Epoch 17: val_accuracy did not improve from 0.60000\n",
      "5/5 [==============================] - 15s 3s/step - loss: 0.4491 - accuracy: 0.7739 - val_loss: 0.7972 - val_accuracy: 0.4909\n",
      "Epoch 18/20\n",
      "5/5 [==============================] - ETA: 0s - loss: 0.4641 - accuracy: 0.7674\n",
      "Epoch 18: val_accuracy did not improve from 0.60000\n",
      "5/5 [==============================] - 14s 3s/step - loss: 0.4641 - accuracy: 0.7674 - val_loss: 0.8640 - val_accuracy: 0.5091\n",
      "Epoch 19/20\n",
      "5/5 [==============================] - ETA: 0s - loss: 0.4905 - accuracy: 0.7674\n",
      "Epoch 19: val_accuracy did not improve from 0.60000\n",
      "5/5 [==============================] - 14s 3s/step - loss: 0.4905 - accuracy: 0.7674 - val_loss: 0.8609 - val_accuracy: 0.5273\n",
      "Epoch 20/20\n",
      "5/5 [==============================] - ETA: 0s - loss: 0.4687 - accuracy: 0.7630\n",
      "Epoch 20: val_accuracy did not improve from 0.60000\n",
      "5/5 [==============================] - 15s 3s/step - loss: 0.4687 - accuracy: 0.7630 - val_loss: 0.7679 - val_accuracy: 0.4909\n"
     ]
    }
   ],
   "source": [
    "import tensorflow as tf\n",
    "from tensorflow.keras.models import Sequential\n",
    "from tensorflow.keras.layers import Dense, Dropout, BatchNormalization\n",
    "from tensorflow.keras.callbacks import ModelCheckpoint\n",
    "\n",
    "# Assuming train_gen and valid_gen are your image data generators\n",
    "\n",
    "img_size = (224, 224)\n",
    "channels = 3\n",
    "img_shape = (img_size[0], img_size[1], channels)\n",
    "class_count = len(list(train_gen.class_indices.keys()))\n",
    "\n",
    "# Create pre-trained model\n",
    "base_model = tf.keras.applications.ResNet50(include_top=False, weights=\"imagenet\", input_shape=img_shape, pooling='max')\n",
    "for layer in base_model.layers:\n",
    "    layer.trainable = False\n",
    "model = Sequential([\n",
    "    base_model,\n",
    "    BatchNormalization(),\n",
    "    Dense(256, activation='relu'),\n",
    "    Dropout(0.3),\n",
    "     Dense(64, activation='relu'),\n",
    "    Dropout(0.3),\n",
    "    Dense(class_count, activation='softmax')\n",
    "])\n",
    "\n",
    "optimizer = tf.keras.optimizers.Adam()\n",
    "model.compile(optimizer=optimizer, loss='categorical_crossentropy', metrics=['accuracy'])\n",
    "\n",
    "# Define filepath to save the best model\n",
    "filepath = 'best_model_resnet.h5'\n",
    "\n",
    "# Create ModelCheckpoint callback to save the best model based on validation accuracy\n",
    "checkpoint = ModelCheckpoint(filepath, monitor='val_accuracy', verbose=1, save_best_only=True, mode='max')\n",
    "# Train the model with the added callback\n",
    "history = model.fit(\n",
    "    x=train_gen,\n",
    "    epochs=20,\n",
    "    verbose=1,\n",
    "    validation_data=valid_gen,\n",
    "    callbacks=[checkpoint]\n",
    ")\n"
   ]
  },
  {
   "cell_type": "code",
   "execution_count": 32,
   "id": "c769eed6",
   "metadata": {},
   "outputs": [],
   "source": [
    "import tensorflow as tf\n",
    "from tensorflow.keras.models import load_model, Model\n",
    "from tensorflow.keras.layers import Input, Average\n"
   ]
  },
  {
   "cell_type": "code",
   "execution_count": 33,
   "id": "53ec5f54",
   "metadata": {},
   "outputs": [],
   "source": [
    "model= load_model('best_model_resnet.h5')"
   ]
  },
  {
   "cell_type": "code",
   "execution_count": 34,
   "id": "7a96bb5b",
   "metadata": {},
   "outputs": [
    {
     "name": "stdout",
     "output_type": "stream",
     "text": [
      "5/5 [==============================] - 13s 2s/step - loss: 0.7783 - accuracy: 0.5174\n",
      "1/1 [==============================] - 2s 2s/step - loss: 0.7677 - accuracy: 0.6000\n",
      "1/1 [==============================] - 1s 1s/step - loss: 0.7836 - accuracy: 0.5667\n",
      "Train Loss:  0.77828449010849\n",
      "Train Accuracy:  0.5173913240432739\n",
      "--------------------\n",
      "Validation Loss:  0.7677497267723083\n",
      "Validation Accuracy:  0.6000000238418579\n",
      "--------------------\n",
      "Test Loss:  0.7836081981658936\n",
      "Test Accuracy:  0.5666666626930237\n"
     ]
    }
   ],
   "source": [
    "train_score = model.evaluate(train_gen, steps= len(train_gen), verbose= 1)\n",
    "valid_score = model.evaluate(valid_gen, steps= len(valid_gen), verbose= 1)\n",
    "test_score = model.evaluate(test_gen, steps= len(test_gen), verbose= 1)\n",
    "\n",
    "print(\"Train Loss: \", train_score[0])\n",
    "print(\"Train Accuracy: \", train_score[1])\n",
    "print('-' * 20)\n",
    "print(\"Validation Loss: \", valid_score[0])\n",
    "print(\"Validation Accuracy: \", valid_score[1])\n",
    "print('-' * 20)\n",
    "print(\"Test Loss: \", test_score[0])\n",
    "print(\"Test Accuracy: \", test_score[1])"
   ]
  },
  {
   "cell_type": "code",
   "execution_count": 35,
   "id": "db1eeaf8",
   "metadata": {},
   "outputs": [
    {
     "name": "stderr",
     "output_type": "stream",
     "text": [
      "C:\\Users\\MSI KATANA\\AppData\\Local\\Temp\\ipykernel_17028\\3099705374.py:2: UserWarning: `Model.predict_generator` is deprecated and will be removed in a future version. Please use `Model.predict`, which supports generators.\n",
      "  preds = model.predict_generator(test_gen)\n"
     ]
    },
    {
     "name": "stdout",
     "output_type": "stream",
     "text": [
      "[0 0 0 0 1 0 0 1 0 0 0 0 0 0 0 0 0 0 0 0 0 0 1 0 0 0 0 0 0 0 0 0 0 0 1 0 0\n",
      " 1 0 0 1 0 0 0 0 0 0 0 1 0 0 0 1 0 0 0 0 1 0 1]\n"
     ]
    }
   ],
   "source": [
    "model = load_model('best_model_resnet.h5')\n",
    "preds = model.predict_generator(test_gen)\n",
    "y_pred = np.argmax(preds, axis=1)\n",
    "print(y_pred)"
   ]
  },
  {
   "cell_type": "code",
   "execution_count": 36,
   "id": "112c6b04",
   "metadata": {},
   "outputs": [
    {
     "data": {
      "image/png": "[encoded data removed]",
      "text/plain": [
       "<Figure size 1000x700 with 2 Axes>"
      ]
     },
     "metadata": {},
     "output_type": "display_data"
    },
    {
     "name": "stdout",
     "output_type": "stream",
     "text": [
      "              precision    recall  f1-score   support\n",
      "\n",
      "      adidas       0.54      0.90      0.68        30\n",
      "        nike       0.70      0.23      0.35        30\n",
      "\n",
      "    accuracy                           0.57        60\n",
      "   macro avg       0.62      0.57      0.51        60\n",
      "weighted avg       0.62      0.57      0.51        60\n",
      "\n"
     ]
    }
   ],
   "source": [
    "from sklearn.metrics import confusion_matrix, classification_report\n",
    "import matplotlib.pyplot as plt\n",
    "\n",
    "# Confusion matrix\n",
    "cm = confusion_matrix(test_gen.classes, y_pred)\n",
    "plot_confusion_matrix(cm= cm, classes= target_names, title = 'Confusion Matrix')\n",
    "# Classification report\n",
    "print(classification_report(test_gen.classes, y_pred, target_names= target_names))"
   ]
  },
  {
   "cell_type": "code",
   "execution_count": 37,
   "id": "80751716",
   "metadata": {},
   "outputs": [],
   "source": [
    "import tensorflow as tf\n",
    "from tensorflow.keras.models import Sequential\n",
    "from tensorflow.keras.layers import Dense, Dropout, BatchNormalization\n",
    "from tensorflow.keras.callbacks import ModelCheckpoint"
   ]
  },
  {
   "cell_type": "code",
   "execution_count": 38,
   "id": "6294d2aa",
   "metadata": {},
   "outputs": [
    {
     "name": "stderr",
     "output_type": "stream",
     "text": [
      "C:\\Users\\MSI KATANA\\anaconda3\\Lib\\site-packages\\PIL\\Image.py:996: UserWarning: Palette images with Transparency expressed in bytes should be converted to RGBA images\n",
      "  warnings.warn(\n"
     ]
    },
    {
     "name": "stdout",
     "output_type": "stream",
     "text": [
      "Epoch 1/20\n",
      "5/5 [==============================] - ETA: 0s - loss: 0.7990 - accuracy: 0.6109\n",
      "Epoch 1: val_accuracy improved from -inf to 0.54545, saving model to best_model_vgg.h5\n",
      "5/5 [==============================] - 35s 7s/step - loss: 0.7990 - accuracy: 0.6109 - val_loss: 0.7931 - val_accuracy: 0.5455\n",
      "Epoch 2/20\n"
     ]
    },
    {
     "name": "stderr",
     "output_type": "stream",
     "text": [
      "C:\\Users\\MSI KATANA\\anaconda3\\Lib\\site-packages\\keras\\src\\engine\\training.py:3103: UserWarning: You are saving your model as an HDF5 file via `model.save()`. This file format is considered legacy. We recommend using instead the native Keras format, e.g. `model.save('my_model.keras')`.\n",
      "  saving_api.save_model(\n"
     ]
    },
    {
     "name": "stdout",
     "output_type": "stream",
     "text": [
      "5/5 [==============================] - ETA: 0s - loss: 0.5489 - accuracy: 0.7500\n",
      "Epoch 2: val_accuracy improved from 0.54545 to 0.58182, saving model to best_model_vgg.h5\n",
      "5/5 [==============================] - 34s 7s/step - loss: 0.5489 - accuracy: 0.7500 - val_loss: 0.8918 - val_accuracy: 0.5818\n",
      "Epoch 3/20\n",
      "5/5 [==============================] - ETA: 0s - loss: 0.4855 - accuracy: 0.7978\n",
      "Epoch 3: val_accuracy did not improve from 0.58182\n",
      "5/5 [==============================] - 34s 7s/step - loss: 0.4855 - accuracy: 0.7978 - val_loss: 1.0853 - val_accuracy: 0.5455\n",
      "Epoch 4/20\n",
      "5/5 [==============================] - ETA: 0s - loss: 0.4573 - accuracy: 0.8130\n",
      "Epoch 4: val_accuracy did not improve from 0.58182\n",
      "5/5 [==============================] - 35s 7s/step - loss: 0.4573 - accuracy: 0.8130 - val_loss: 0.9567 - val_accuracy: 0.5818\n",
      "Epoch 5/20\n",
      "5/5 [==============================] - ETA: 0s - loss: 0.4298 - accuracy: 0.8109\n",
      "Epoch 5: val_accuracy did not improve from 0.58182\n",
      "5/5 [==============================] - 34s 7s/step - loss: 0.4298 - accuracy: 0.8109 - val_loss: 0.8175 - val_accuracy: 0.5818\n",
      "Epoch 6/20\n",
      "5/5 [==============================] - ETA: 0s - loss: 0.4207 - accuracy: 0.8261\n",
      "Epoch 6: val_accuracy improved from 0.58182 to 0.65455, saving model to best_model_vgg.h5\n",
      "5/5 [==============================] - 35s 7s/step - loss: 0.4207 - accuracy: 0.8261 - val_loss: 0.6449 - val_accuracy: 0.6545\n",
      "Epoch 7/20\n",
      "5/5 [==============================] - ETA: 0s - loss: 0.3311 - accuracy: 0.8587\n",
      "Epoch 7: val_accuracy improved from 0.65455 to 0.67273, saving model to best_model_vgg.h5\n",
      "5/5 [==============================] - 34s 7s/step - loss: 0.3311 - accuracy: 0.8587 - val_loss: 0.6409 - val_accuracy: 0.6727\n",
      "Epoch 8/20\n",
      "5/5 [==============================] - ETA: 0s - loss: 0.3130 - accuracy: 0.8674\n",
      "Epoch 8: val_accuracy improved from 0.67273 to 0.70909, saving model to best_model_vgg.h5\n",
      "5/5 [==============================] - 35s 8s/step - loss: 0.3130 - accuracy: 0.8674 - val_loss: 0.5791 - val_accuracy: 0.7091\n",
      "Epoch 9/20\n",
      "5/5 [==============================] - ETA: 0s - loss: 0.2873 - accuracy: 0.8739\n",
      "Epoch 9: val_accuracy did not improve from 0.70909\n",
      "5/5 [==============================] - 35s 7s/step - loss: 0.2873 - accuracy: 0.8739 - val_loss: 0.5884 - val_accuracy: 0.6727\n",
      "Epoch 10/20\n",
      "5/5 [==============================] - ETA: 0s - loss: 0.3133 - accuracy: 0.8587\n",
      "Epoch 10: val_accuracy did not improve from 0.70909\n",
      "5/5 [==============================] - 35s 7s/step - loss: 0.3133 - accuracy: 0.8587 - val_loss: 0.5725 - val_accuracy: 0.6545\n",
      "Epoch 11/20\n",
      "5/5 [==============================] - ETA: 0s - loss: 0.2730 - accuracy: 0.8804\n",
      "Epoch 11: val_accuracy did not improve from 0.70909\n",
      "5/5 [==============================] - 35s 7s/step - loss: 0.2730 - accuracy: 0.8804 - val_loss: 0.5718 - val_accuracy: 0.6364\n",
      "Epoch 12/20\n",
      "5/5 [==============================] - ETA: 0s - loss: 0.2412 - accuracy: 0.9043\n",
      "Epoch 12: val_accuracy did not improve from 0.70909\n",
      "5/5 [==============================] - 35s 7s/step - loss: 0.2412 - accuracy: 0.9043 - val_loss: 0.4597 - val_accuracy: 0.7091\n",
      "Epoch 13/20\n",
      "5/5 [==============================] - ETA: 0s - loss: 0.2131 - accuracy: 0.9174\n",
      "Epoch 13: val_accuracy did not improve from 0.70909\n",
      "5/5 [==============================] - 35s 7s/step - loss: 0.2131 - accuracy: 0.9174 - val_loss: 0.5392 - val_accuracy: 0.6909\n",
      "Epoch 14/20\n",
      "5/5 [==============================] - ETA: 0s - loss: 0.2522 - accuracy: 0.8935\n",
      "Epoch 14: val_accuracy did not improve from 0.70909\n",
      "5/5 [==============================] - 35s 7s/step - loss: 0.2522 - accuracy: 0.8935 - val_loss: 0.5790 - val_accuracy: 0.6364\n",
      "Epoch 15/20\n",
      "5/5 [==============================] - ETA: 0s - loss: 0.2193 - accuracy: 0.9000\n",
      "Epoch 15: val_accuracy did not improve from 0.70909\n",
      "5/5 [==============================] - 35s 7s/step - loss: 0.2193 - accuracy: 0.9000 - val_loss: 0.7275 - val_accuracy: 0.6364\n",
      "Epoch 16/20\n",
      "5/5 [==============================] - ETA: 0s - loss: 0.2199 - accuracy: 0.9043\n",
      "Epoch 16: val_accuracy did not improve from 0.70909\n",
      "5/5 [==============================] - 34s 7s/step - loss: 0.2199 - accuracy: 0.9043 - val_loss: 0.8732 - val_accuracy: 0.6545\n",
      "Epoch 17/20\n",
      "5/5 [==============================] - ETA: 0s - loss: 0.1799 - accuracy: 0.9239\n",
      "Epoch 17: val_accuracy did not improve from 0.70909\n",
      "5/5 [==============================] - 34s 7s/step - loss: 0.1799 - accuracy: 0.9239 - val_loss: 0.7114 - val_accuracy: 0.6909\n",
      "Epoch 18/20\n",
      "5/5 [==============================] - ETA: 0s - loss: 0.1830 - accuracy: 0.9391\n",
      "Epoch 18: val_accuracy improved from 0.70909 to 0.72727, saving model to best_model_vgg.h5\n",
      "5/5 [==============================] - 35s 7s/step - loss: 0.1830 - accuracy: 0.9391 - val_loss: 0.6014 - val_accuracy: 0.7273\n",
      "Epoch 19/20\n",
      "5/5 [==============================] - ETA: 0s - loss: 0.1883 - accuracy: 0.9370\n",
      "Epoch 19: val_accuracy did not improve from 0.72727\n",
      "5/5 [==============================] - 35s 7s/step - loss: 0.1883 - accuracy: 0.9370 - val_loss: 0.5741 - val_accuracy: 0.6909\n",
      "Epoch 20/20\n",
      "5/5 [==============================] - ETA: 0s - loss: 0.1419 - accuracy: 0.9413\n",
      "Epoch 20: val_accuracy did not improve from 0.72727\n",
      "5/5 [==============================] - 35s 7s/step - loss: 0.1419 - accuracy: 0.9413 - val_loss: 0.6396 - val_accuracy: 0.7091\n"
     ]
    }
   ],
   "source": [
    "img_size = (224, 224)\n",
    "channels = 3\n",
    "img_shape = (img_size[0], img_size[1], channels)\n",
    "class_count = len(list(train_gen.class_indices.keys()))\n",
    "\n",
    "# Create pre-trained model\n",
    "base_model = tf.keras.applications.VGG16(include_top=False, weights=\"imagenet\", input_shape=img_shape, pooling='max')\n",
    "for layer in base_model.layers:\n",
    "    layer.trainable = False\n",
    "model = Sequential([\n",
    "    base_model,\n",
    "    BatchNormalization(),\n",
    "    Dense(256, activation='relu'),\n",
    "    Dropout(0.3),\n",
    "     Dense(64, activation='relu'),\n",
    "    Dropout(0.3),\n",
    "    Dense(class_count, activation='softmax')\n",
    "])\n",
    "\n",
    "optimizer = tf.keras.optimizers.Adam()\n",
    "model.compile(optimizer=optimizer, loss='categorical_crossentropy', metrics=['accuracy'])\n",
    "\n",
    "# Define filepath to save the best model\n",
    "filepath = 'best_model_vgg.h5'\n",
    "\n",
    "# Create ModelCheckpoint callback to save the best model based on validation accuracy\n",
    "checkpoint = ModelCheckpoint(filepath, monitor='val_accuracy', verbose=1, save_best_only=True, mode='max')\n",
    "# Train the model with the added callback\n",
    "history = model.fit(\n",
    "    x=train_gen,\n",
    "    epochs=20,\n",
    "    verbose=1,\n",
    "    validation_data=valid_gen,\n",
    "    callbacks=[checkpoint]\n",
    ")"
   ]
  },
  {
   "cell_type": "code",
   "execution_count": 39,
   "id": "e00dcc3c",
   "metadata": {},
   "outputs": [
    {
     "name": "stdout",
     "output_type": "stream",
     "text": [
      "5/5 [==============================] - 29s 5s/step - loss: 0.3059 - accuracy: 0.8739\n",
      "1/1 [==============================] - 4s 4s/step - loss: 0.6973 - accuracy: 0.6727\n",
      "1/1 [==============================] - 4s 4s/step - loss: 0.7228 - accuracy: 0.6000\n",
      "Train Loss:  0.3059218227863312\n",
      "Train Accuracy:  0.873913049697876\n",
      "--------------------\n",
      "Validation Loss:  0.6973200440406799\n",
      "Validation Accuracy:  0.6727272868156433\n",
      "--------------------\n",
      "Test Loss:  0.7228193879127502\n",
      "Test Accuracy:  0.6000000238418579\n"
     ]
    }
   ],
   "source": [
    "model= load_model('best_model_vgg.h5')\n",
    "\n",
    "\n",
    "train_score = model.evaluate(train_gen, steps= len(train_gen), verbose= 1)\n",
    "valid_score = model.evaluate(valid_gen, steps= len(valid_gen), verbose= 1)\n",
    "test_score = model.evaluate(test_gen, steps= len(test_gen), verbose= 1)\n",
    "\n",
    "print(\"Train Loss: \", train_score[0])\n",
    "print(\"Train Accuracy: \", train_score[1])\n",
    "print('-' * 20)\n",
    "print(\"Validation Loss: \", valid_score[0])\n",
    "print(\"Validation Accuracy: \", valid_score[1])\n",
    "print('-' * 20)\n",
    "print(\"Test Loss: \", test_score[0])\n",
    "print(\"Test Accuracy: \", test_score[1])"
   ]
  },
  {
   "cell_type": "code",
   "execution_count": 40,
   "id": "3614bca2",
   "metadata": {},
   "outputs": [
    {
     "name": "stderr",
     "output_type": "stream",
     "text": [
      "C:\\Users\\MSI KATANA\\AppData\\Local\\Temp\\ipykernel_17028\\649364068.py:2: UserWarning: `Model.predict_generator` is deprecated and will be removed in a future version. Please use `Model.predict`, which supports generators.\n",
      "  preds = model.predict_generator(test_gen)\n"
     ]
    },
    {
     "name": "stdout",
     "output_type": "stream",
     "text": [
      "[1 1 1 1 1 0 0 1 1 0 1 0 1 1 0 1 1 0 1 1 1 1 0 1 1 1 1 0 1 0 1 1 1 0 1 1 1\n",
      " 1 0 1 1 1 1 0 1 1 1 1 1 1 1 1 1 1 1 1 1 1 1 1]\n"
     ]
    }
   ],
   "source": [
    "model = load_model('best_model_vgg.h5')\n",
    "preds = model.predict_generator(test_gen)\n",
    "y_pred = np.argmax(preds, axis=1)\n",
    "print(y_pred)"
   ]
  },
  {
   "cell_type": "code",
   "execution_count": 41,
   "id": "8a59c91d",
   "metadata": {},
   "outputs": [
    {
     "data": {
      "image/png": "[encoded data removed]",
      "text/plain": [
       "<Figure size 1000x700 with 2 Axes>"
      ]
     },
     "metadata": {},
     "output_type": "display_data"
    },
    {
     "name": "stdout",
     "output_type": "stream",
     "text": [
      "              precision    recall  f1-score   support\n",
      "\n",
      "      adidas       0.75      0.30      0.43        30\n",
      "        nike       0.56      0.90      0.69        30\n",
      "\n",
      "    accuracy                           0.60        60\n",
      "   macro avg       0.66      0.60      0.56        60\n",
      "weighted avg       0.66      0.60      0.56        60\n",
      "\n"
     ]
    }
   ],
   "source": [
    "from sklearn.metrics import confusion_matrix, classification_report\n",
    "import matplotlib.pyplot as plt\n",
    "\n",
    "# Confusion matrix\n",
    "cm = confusion_matrix(test_gen.classes, y_pred)\n",
    "plot_confusion_matrix(cm= cm, classes= target_names, title = 'Confusion Matrix')\n",
    "# Classification report\n",
    "print(classification_report(test_gen.classes, y_pred, target_names= target_names))"
   ]
  },
  {
   "cell_type": "code",
   "execution_count": null,
   "id": "da54af38",
   "metadata": {},
   "outputs": [],
   "source": []
  }
 ],
 "metadata": {
  "kernelspec": {
   "display_name": "Python 3 (ipykernel)",
   "language": "python",
   "name": "python3"
  },
  "language_info": {
   "codemirror_mode": {
    "name": "ipython",
    "version": 3
   },
   "file_extension": ".py",
   "mimetype": "text/x-python",
   "name": "python",
   "nbconvert_exporter": "python",
   "pygments_lexer": "ipython3",
   "version": "3.11.5"
  }
 },
 "nbformat": 4,
 "nbformat_minor": 5
}
