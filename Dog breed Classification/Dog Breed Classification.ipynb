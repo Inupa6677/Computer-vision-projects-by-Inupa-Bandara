{
 "cells": [
  {
   "cell_type": "code",
   "execution_count": 2,
   "id": "cc6ebc81",
   "metadata": {},
   "outputs": [],
   "source": [
    "import numpy as np\n",
    "import pandas as pd\n",
    "import matplotlib.pyplot as plt\n",
    "import seaborn as sns\n",
    "from sklearn.preprocessing import LabelEncoder\n",
    "from sklearn.model_selection import train_test_split\n",
    "from sklearn.metrics import confusion_matrix\n",
    "import tensorflow as tf\n",
    "from tensorflow.keras.applications import VGG16\n",
    "from tensorflow.keras.models import Model\n",
    "from tensorflow.keras.models import Sequential,load_model\n",
    "from tensorflow.keras.layers import Conv2D, MaxPooling2D, Flatten, Dense, Dropout\n",
    "from tensorflow.keras.utils import to_categorical\n",
    "from tensorflow.keras.preprocessing.image import ImageDataGenerator\n",
    "from tensorflow.keras.optimizers import Adam\n",
    "from tensorflow.keras.callbacks import EarlyStopping\n",
    "from PIL import Image\n",
    "\n",
    "import random\n",
    "\n",
    "import warnings\n",
    "warnings.filterwarnings(\"ignore\")\n",
    "\n",
    "import os\n",
    "import os.path\n",
    "from pathlib import Path"
   ]
  },
  {
   "cell_type": "code",
   "execution_count": 3,
   "id": "78119c02",
   "metadata": {},
   "outputs": [
    {
     "name": "stdout",
     "output_type": "stream",
     "text": [
      "Found 967 files belonging to 10 classes.\n"
     ]
    }
   ],
   "source": [
    "import tensorflow as tf\n",
    "import numpy as np\n",
    "import os\n",
    "\n",
    "# Load the dataset\n",
    "dataset = tf.keras.preprocessing.image_dataset_from_directory(\n",
    "    'C:/Users/MSI KATANA/Desktop/practice ML/Computer-vision-projects-by-Inupa-Bandara/Dog breed Classification/dataset',\n",
    "    image_size=(128, 128),  # Resize to 128x128 to match the example\n",
    "    batch_size=32,\n",
    "    shuffle=False  # Keep the data in order to easily split by class\n",
    ")"
   ]
  },
  {
   "cell_type": "code",
   "execution_count": 4,
   "id": "b7f1f545",
   "metadata": {},
   "outputs": [],
   "source": [
    "# Initialize lists to store images and labels for each class\n",
    "Beagle_images = []\n",
    "Boxer_images = []\n",
    "Bulldog_images = []\n",
    "Dachshund_images = []\n",
    "German_Shepherd_images = []\n",
    "Golden_Retriever_images = []\n",
    "Labrador_Retriever_images = []\n",
    "Poodle_images = []\n",
    "Rottweiler_images = []\n",
    "Yorkshire_Terrier_images = []\n"
   ]
  },
  {
   "cell_type": "code",
   "execution_count": 7,
   "id": "2ec60252",
   "metadata": {},
   "outputs": [],
   "source": [
    "# Assuming the dataset classes are in alphabetical order and labels are 0-9\n",
    "class_dict = {\n",
    "    0: Beagle_images,\n",
    "    1: Boxer_images,\n",
    "    2: Bulldog_images,\n",
    "    3: Dachshund_images,\n",
    "    4: German_Shepherd_images,\n",
    "    5: Golden_Retriever_images,\n",
    "    6: Labrador_Retriever_images,\n",
    "    7: Poodle_images,\n",
    "    8: Rottweiler_images,\n",
    "    9: Yorkshire_Terrier_images\n",
    "}\n",
    "\n",
    "# Iterate through the dataset and separate the images and labels based on class\n",
    "for images, labels in dataset:\n",
    "    images_np = images.numpy()\n",
    "    labels_np = labels.numpy()\n",
    "\n",
    "    for i, label in enumerate(labels_np):\n",
    "        class_dict[label].append(images_np[i])"
   ]
  },
  {
   "cell_type": "code",
   "execution_count": 8,
   "id": "320a5a92",
   "metadata": {},
   "outputs": [],
   "source": [
    "# Convert lists to numpy arrays\n",
    "Beagle_images = np.array(Beagle_images)\n",
    "Boxer_images = np.array(Boxer_images)\n",
    "Bulldog_images = np.array(Bulldog_images)\n",
    "Dachshund_images = np.array(Dachshund_images)\n",
    "German_Shepherd_images = np.array(German_Shepherd_images)\n",
    "Golden_Retriever_images = np.array(Golden_Retriever_images)\n",
    "Labrador_Retriever_images = np.array(Labrador_Retriever_images)\n",
    "Poodle_images = np.array(Poodle_images)\n",
    "Rottweiler_images = np.array(Rottweiler_images)\n",
    "Yorkshire_Terrier_images = np.array(Yorkshire_Terrier_images)"
   ]
  },
  {
   "cell_type": "code",
   "execution_count": 9,
   "id": "6ccc42cd",
   "metadata": {},
   "outputs": [],
   "source": [
    "# Create labels for each class\n",
    "Beagle_labels = np.zeros(len(Beagle_images), dtype=int)\n",
    "Boxer_labels = np.ones(len(Boxer_images), dtype=int)\n",
    "Bulldog_labels = np.full(len(Bulldog_images), 2, dtype=int)\n",
    "Dachshund_labels = np.full(len(Dachshund_images), 3, dtype=int)\n",
    "German_Shepherd_labels = np.full(len(German_Shepherd_images), 4, dtype=int)\n",
    "Golden_Retriever_labels = np.full(len(Golden_Retriever_images), 5, dtype=int)\n",
    "Labrador_Retriever_labels = np.full(len(Labrador_Retriever_images), 6, dtype=int)\n",
    "Poodle_labels = np.full(len(Poodle_images), 7, dtype=int)\n",
    "Rottweiler_labels = np.full(len(Rottweiler_images), 8, dtype=int)\n",
    "Yorkshire_Terrier_labels = np.full(len(Yorkshire_Terrier_images), 9, dtype=int)"
   ]
  },
  {
   "cell_type": "code",
   "execution_count": 10,
   "id": "d352dd16",
   "metadata": {},
   "outputs": [],
   "source": [
    "# Combine data and labels\n",
    "X = np.concatenate((Beagle_images, Boxer_images, Bulldog_images, Dachshund_images, \n",
    "                    German_Shepherd_images, Golden_Retriever_images, Labrador_Retriever_images, \n",
    "                    Poodle_images, Rottweiler_images, Yorkshire_Terrier_images), axis=0)\n",
    "y = np.concatenate((Beagle_labels, Boxer_labels, Bulldog_labels, Dachshund_labels, \n",
    "                    German_Shepherd_labels, Golden_Retriever_labels, Labrador_Retriever_labels, \n",
    "                    Poodle_labels, Rottweiler_labels, Yorkshire_Terrier_labels), axis=0)"
   ]
  },
  {
   "cell_type": "code",
   "execution_count": 11,
   "id": "83d5a8bc",
   "metadata": {},
   "outputs": [
    {
     "name": "stdout",
     "output_type": "stream",
     "text": [
      "Total images: 2901\n",
      "Beagle images: 300\n",
      "Boxer images: 300\n",
      "Bulldog images: 300\n",
      "Dachshund images: 288\n",
      "German Shepherd images: 288\n",
      "Golden Retriever images: 273\n",
      "Labrador Retriever images: 285\n",
      "Poodle images: 300\n",
      "Rottweiler images: 267\n",
      "Yorkshire Terrier images: 300\n",
      "Labels shape: (2901,)\n"
     ]
    }
   ],
   "source": [
    "# Print shapes to verify\n",
    "print(f'Total images: {X.shape[0]}')\n",
    "print(f'Beagle images: {Beagle_images.shape[0]}')\n",
    "print(f'Boxer images: {Boxer_images.shape[0]}')\n",
    "print(f'Bulldog images: {Bulldog_images.shape[0]}')\n",
    "print(f'Dachshund images: {Dachshund_images.shape[0]}')\n",
    "print(f'German Shepherd images: {German_Shepherd_images.shape[0]}')\n",
    "print(f'Golden Retriever images: {Golden_Retriever_images.shape[0]}')\n",
    "print(f'Labrador Retriever images: {Labrador_Retriever_images.shape[0]}')\n",
    "print(f'Poodle images: {Poodle_images.shape[0]}')\n",
    "print(f'Rottweiler images: {Rottweiler_images.shape[0]}')\n",
    "print(f'Yorkshire Terrier images: {Yorkshire_Terrier_images.shape[0]}')\n",
    "print(f'Labels shape: {y.shape}')"
   ]
  },
  {
   "cell_type": "code",
   "execution_count": null,
   "id": "6b77709f",
   "metadata": {},
   "outputs": [],
   "source": []
  }
 ],
 "metadata": {
  "kernelspec": {
   "display_name": "Python 3 (ipykernel)",
   "language": "python",
   "name": "python3"
  },
  "language_info": {
   "codemirror_mode": {
    "name": "ipython",
    "version": 3
   },
   "file_extension": ".py",
   "mimetype": "text/x-python",
   "name": "python",
   "nbconvert_exporter": "python",
   "pygments_lexer": "ipython3",
   "version": "3.11.5"
  }
 },
 "nbformat": 4,
 "nbformat_minor": 5
}
